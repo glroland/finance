{
 "cells": [
  {
   "cell_type": "code",
   "execution_count": null,
   "metadata": {},
   "outputs": [],
   "source": [
    "import pandas as pd\n",
    "import csv\n",
    "import config"
   ]
  },
  {
   "cell_type": "code",
   "execution_count": null,
   "metadata": {},
   "outputs": [],
   "source": [
    "print (\"Loading File: \", config.OUTPUT_FILE)\n",
    "df = pd.read_csv(config.OUTPUT_FILE)\n",
    "\n",
    "print(df.columns)\n",
    "print(df.shape)\n",
    "df.head()"
   ]
  },
  {
   "cell_type": "code",
   "execution_count": null,
   "metadata": {},
   "outputs": [],
   "source": [
    "rowsBefore = df.shape[0]\n",
    "df = df.drop(['Date', 'Amount', 'Additional'], axis=1)\n",
    "df = df.drop_duplicates()\n",
    "rowsAfter = df.shape[0]\n",
    "print(\"Removed\", str(rowsBefore-rowsAfter), \"duplicate rows.\")\n"
   ]
  },
  {
   "cell_type": "code",
   "execution_count": null,
   "metadata": {},
   "outputs": [],
   "source": [
    "df.to_csv(config.CATEGORIES_FILE, index=False, quoting=csv.QUOTE_ALL)\n",
    "print(\"Successfully saved categories file.\")"
   ]
  }
 ],
 "metadata": {
  "kernelspec": {
   "display_name": "ai",
   "language": "python",
   "name": "python3"
  },
  "language_info": {
   "codemirror_mode": {
    "name": "ipython",
    "version": 3
   },
   "file_extension": ".py",
   "mimetype": "text/x-python",
   "name": "python",
   "nbconvert_exporter": "python",
   "pygments_lexer": "ipython3",
   "version": "3.12.3"
  }
 },
 "nbformat": 4,
 "nbformat_minor": 2
}
