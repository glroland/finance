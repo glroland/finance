{
 "cells": [
  {
   "cell_type": "code",
   "execution_count": 26,
   "metadata": {},
   "outputs": [],
   "source": [
    "import pandas as pd\n",
    "import csv\n",
    "import config"
   ]
  },
  {
   "cell_type": "code",
   "execution_count": 27,
   "metadata": {},
   "outputs": [],
   "source": [
    "pureDF = pd.DataFrame(columns=[\"Date\", \"Amount\", \"Description\", \"Additional\", \"Category\"])"
   ]
  },
  {
   "cell_type": "code",
   "execution_count": 28,
   "metadata": {},
   "outputs": [
    {
     "name": "stdout",
     "output_type": "stream",
     "text": [
      "Loading File:  ~/Downloads/activity.csv\n",
      "Added 1068 records to data set, resulting in a new total of 1068\n",
      "\n",
      "Loading File:  ~/Downloads/activity (1).csv\n",
      "Added 514 records to data set, resulting in a new total of 1582\n",
      "\n",
      "Loading File:  ~/Downloads/Checking2.csv\n",
      "Added 1136 records to data set, resulting in a new total of 2718\n",
      "\n"
     ]
    },
    {
     "name": "stderr",
     "output_type": "stream",
     "text": [
      "/var/folders/pp/350d28rx0g1dmhq658jwgy8c0000gn/T/ipykernel_48733/2820223699.py:38: FutureWarning: The behavior of DataFrame concatenation with empty or all-NA entries is deprecated. In a future version, this will no longer exclude empty or all-NA columns when determining the result dtypes. To retain the old behavior, exclude the relevant entries before the concat operation.\n",
      "  pureDF = pd.concat([pureDF, df], axis=0)\n"
     ]
    }
   ],
   "source": [
    "for f in config.IMPORT_FILES:\n",
    "    print (\"Loading File: \", f)\n",
    "    df = pd.read_csv(f, header=None)\n",
    "\n",
    "    if df.columns.size == 13:\n",
    "        # Reset header to match line 1\n",
    "        new_header = df.iloc[0]\n",
    "        df = df[1:]\n",
    "        df.columns = new_header\n",
    "\n",
    "        # Filter rows\n",
    "        df = df[df[\"Card Member\"] == config.CARD_MEMBER_FILTER]\n",
    "\n",
    "        # Transform data types\n",
    "        df['Date'] = pd.to_datetime(df['Date'])\n",
    "        df['Amount'] = pd.to_numeric(df['Amount']) * -1.0\n",
    "        df['Additional'] = df[\"Extended Details\"]\n",
    "\n",
    "        # Remove Unused Columns\n",
    "        df = df.drop(\"Address\", axis=1)\n",
    "        df = df.drop(\"City/State\", axis=1)\n",
    "        df = df.drop(\"Country\", axis=1)\n",
    "        df = df.drop(\"Zip Code\", axis=1)\n",
    "        df = df.drop(\"Card Member\", axis=1)\n",
    "        df = df.drop(\"Account #\", axis=1)\n",
    "        df = df.drop(\"Reference\", axis=1)\n",
    "        df = df.drop(\"Extended Details\", axis=1)\n",
    "        df = df.drop(\"Appears On Your Statement As\", axis=1)\n",
    "\n",
    "    elif df.columns.size == 5:\n",
    "        df.rename(columns = {0: 'Date', 1: 'Amount', 2: \"Unused\", 3: \"Additional\", 4: 'Description'}, inplace=True)\n",
    "        df['Date'] = pd.to_datetime(df['Date'])\n",
    "        df = df.drop(\"Unused\", axis=1)\n",
    "\n",
    "    else:\n",
    "        raise(\"Unknown Data Type!  Columns=\" + str(df.columns.size))    \n",
    "\n",
    "    pureDF = pd.concat([pureDF, df], axis=0)\n",
    "    print(\"Added\", str(len(df)), \"records to data set, resulting in a new total of\", str(len(pureDF)))\n",
    "    print()"
   ]
  },
  {
   "cell_type": "code",
   "execution_count": 29,
   "metadata": {},
   "outputs": [
    {
     "name": "stdout",
     "output_type": "stream",
     "text": [
      "Index(['Date', 'Amount', 'Description', 'Additional', 'Category'], dtype='object')\n",
      "(2718, 5)\n"
     ]
    },
    {
     "data": {
      "text/html": [
       "<div>\n",
       "<style scoped>\n",
       "    .dataframe tbody tr th:only-of-type {\n",
       "        vertical-align: middle;\n",
       "    }\n",
       "\n",
       "    .dataframe tbody tr th {\n",
       "        vertical-align: top;\n",
       "    }\n",
       "\n",
       "    .dataframe thead th {\n",
       "        text-align: right;\n",
       "    }\n",
       "</style>\n",
       "<table border=\"1\" class=\"dataframe\">\n",
       "  <thead>\n",
       "    <tr style=\"text-align: right;\">\n",
       "      <th></th>\n",
       "      <th>Date</th>\n",
       "      <th>Amount</th>\n",
       "      <th>Description</th>\n",
       "      <th>Additional</th>\n",
       "      <th>Category</th>\n",
       "    </tr>\n",
       "  </thead>\n",
       "  <tbody>\n",
       "    <tr>\n",
       "      <th>1</th>\n",
       "      <td>2023-12-31</td>\n",
       "      <td>-27.10</td>\n",
       "      <td>BRUSTERS ICE CREAM #WOODSTOCK           GA</td>\n",
       "      <td>74744554001 770-720-2868\\nBRUSTERS ICE CREAM #...</td>\n",
       "      <td>Restaurant-Bar &amp; Café</td>\n",
       "    </tr>\n",
       "    <tr>\n",
       "      <th>2</th>\n",
       "      <td>2023-12-30</td>\n",
       "      <td>-5.45</td>\n",
       "      <td>LEVY MERCEDES BENZ SATLANTA             GA</td>\n",
       "      <td>73011933365 JSCHERGER@LEVYRESTAUR\\nJSCHERGER@L...</td>\n",
       "      <td>Restaurant-Restaurant</td>\n",
       "    </tr>\n",
       "    <tr>\n",
       "      <th>3</th>\n",
       "      <td>2023-12-30</td>\n",
       "      <td>-16.34</td>\n",
       "      <td>LEVY MERCEDES BENZ SATLANTA             GA</td>\n",
       "      <td>73011933365 JSCHERGER@LEVYRESTAUR\\nJSCHERGER@L...</td>\n",
       "      <td>Restaurant-Restaurant</td>\n",
       "    </tr>\n",
       "    <tr>\n",
       "      <th>4</th>\n",
       "      <td>2023-12-30</td>\n",
       "      <td>-67.61</td>\n",
       "      <td>MAPLE STREET BISCUITALPHARETTA          GA</td>\n",
       "      <td>99999993364 6152354040\\nMAPLE STREET BISCUIT C...</td>\n",
       "      <td>Restaurant-Bar &amp; Café</td>\n",
       "    </tr>\n",
       "    <tr>\n",
       "      <th>5</th>\n",
       "      <td>2023-12-30</td>\n",
       "      <td>-57.47</td>\n",
       "      <td>QT 765/QUIKTRIP 5542ALPHARETTA          GA</td>\n",
       "      <td>0076502TWYH OUTSIDE SALE\\nQT 765/QUIKTRIP 5542...</td>\n",
       "      <td>Transportation-Fuel</td>\n",
       "    </tr>\n",
       "  </tbody>\n",
       "</table>\n",
       "</div>"
      ],
      "text/plain": [
       "        Date  Amount                                 Description  \\\n",
       "1 2023-12-31  -27.10  BRUSTERS ICE CREAM #WOODSTOCK           GA   \n",
       "2 2023-12-30   -5.45  LEVY MERCEDES BENZ SATLANTA             GA   \n",
       "3 2023-12-30  -16.34  LEVY MERCEDES BENZ SATLANTA             GA   \n",
       "4 2023-12-30  -67.61  MAPLE STREET BISCUITALPHARETTA          GA   \n",
       "5 2023-12-30  -57.47  QT 765/QUIKTRIP 5542ALPHARETTA          GA   \n",
       "\n",
       "                                          Additional               Category  \n",
       "1  74744554001 770-720-2868\\nBRUSTERS ICE CREAM #...  Restaurant-Bar & Café  \n",
       "2  73011933365 JSCHERGER@LEVYRESTAUR\\nJSCHERGER@L...  Restaurant-Restaurant  \n",
       "3  73011933365 JSCHERGER@LEVYRESTAUR\\nJSCHERGER@L...  Restaurant-Restaurant  \n",
       "4  99999993364 6152354040\\nMAPLE STREET BISCUIT C...  Restaurant-Bar & Café  \n",
       "5  0076502TWYH OUTSIDE SALE\\nQT 765/QUIKTRIP 5542...    Transportation-Fuel  "
      ]
     },
     "execution_count": 29,
     "metadata": {},
     "output_type": "execute_result"
    }
   ],
   "source": [
    "print(pureDF.columns)\n",
    "print(pureDF.shape)\n",
    "pureDF.head()"
   ]
  },
  {
   "cell_type": "code",
   "execution_count": 30,
   "metadata": {},
   "outputs": [],
   "source": [
    "pureDF.to_csv(config.OUTPUT_FILE, index=False, quoting=csv.QUOTE_ALL)"
   ]
  }
 ],
 "metadata": {
  "kernelspec": {
   "display_name": "ai",
   "language": "python",
   "name": "python3"
  },
  "language_info": {
   "codemirror_mode": {
    "name": "ipython",
    "version": 3
   },
   "file_extension": ".py",
   "mimetype": "text/x-python",
   "name": "python",
   "nbconvert_exporter": "python",
   "pygments_lexer": "ipython3",
   "version": "3.12.3"
  }
 },
 "nbformat": 4,
 "nbformat_minor": 2
}
