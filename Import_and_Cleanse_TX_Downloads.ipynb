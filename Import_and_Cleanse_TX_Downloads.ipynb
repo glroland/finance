{
 "cells": [
  {
   "cell_type": "code",
   "execution_count": null,
   "metadata": {},
   "outputs": [],
   "source": [
    "import pandas as pd\n",
    "import csv\n",
    "import config"
   ]
  },
  {
   "cell_type": "code",
   "execution_count": null,
   "metadata": {},
   "outputs": [],
   "source": [
    "pureDF = pd.DataFrame(columns=[\"Date\", \"Amount\", \"Description\", \"Additional\", \"Category\"])"
   ]
  },
  {
   "cell_type": "code",
   "execution_count": null,
   "metadata": {},
   "outputs": [],
   "source": [
    "for f in config.IMPORT_FILES:\n",
    "    print (\"Loading File: \", f)\n",
    "    df = pd.read_csv(f, header=None)\n",
    "\n",
    "    if df.columns.size == 13:\n",
    "        # Reset header to match line 1\n",
    "        new_header = df.iloc[0]\n",
    "        df = df[1:]\n",
    "        df.columns = new_header\n",
    "\n",
    "        # Filter rows\n",
    "        df = df[df[\"Card Member\"] == config.CARD_MEMBER_FILTER]\n",
    "\n",
    "        # Transform data types\n",
    "        df['Date'] = pd.to_datetime(df['Date'])\n",
    "        df['Amount'] = pd.to_numeric(df['Amount']) * -1.0\n",
    "        df['Additional'] = df[\"Extended Details\"]\n",
    "\n",
    "        # Remove Unused Columns\n",
    "        df = df.drop(\"Address\", axis=1)\n",
    "        df = df.drop(\"City/State\", axis=1)\n",
    "        df = df.drop(\"Country\", axis=1)\n",
    "        df = df.drop(\"Zip Code\", axis=1)\n",
    "        df = df.drop(\"Card Member\", axis=1)\n",
    "        df = df.drop(\"Account #\", axis=1)\n",
    "        df = df.drop(\"Reference\", axis=1)\n",
    "        df = df.drop(\"Extended Details\", axis=1)\n",
    "        df = df.drop(\"Appears On Your Statement As\", axis=1)\n",
    "\n",
    "    elif df.columns.size == 5:\n",
    "        df.rename(columns = {0: 'Date', 1: 'Amount', 2: \"Unused\", 3: \"Additional\", 4: 'Description'}, inplace=True)\n",
    "        df['Date'] = pd.to_datetime(df['Date'])\n",
    "        df = df.drop(\"Unused\", axis=1)\n",
    "\n",
    "    else:\n",
    "        raise(\"Unknown Data Type!  Columns=\" + str(df.columns.size))    \n",
    "\n",
    "    pureDF = pd.concat([pureDF, df], axis=0)\n",
    "    print(\"Added\", str(len(df)), \"records to data set, resulting in a new total of\", str(len(pureDF)))\n",
    "    print()"
   ]
  },
  {
   "cell_type": "code",
   "execution_count": null,
   "metadata": {},
   "outputs": [],
   "source": [
    "print(pureDF.columns)\n",
    "print(pureDF.shape)\n",
    "pureDF.head()"
   ]
  },
  {
   "cell_type": "code",
   "execution_count": null,
   "metadata": {},
   "outputs": [],
   "source": [
    "pureDF.to_csv(config.OUTPUT_FILE, index=False, quoting=csv.QUOTE_ALL)\n",
    "print(\"Successfully saved output to:\", config.OUTPUT_FILE)"
   ]
  }
 ],
 "metadata": {
  "kernelspec": {
   "display_name": "ai",
   "language": "python",
   "name": "python3"
  },
  "language_info": {
   "codemirror_mode": {
    "name": "ipython",
    "version": 3
   },
   "file_extension": ".py",
   "mimetype": "text/x-python",
   "name": "python",
   "nbconvert_exporter": "python",
   "pygments_lexer": "ipython3",
   "version": "3.12.3"
  }
 },
 "nbformat": 4,
 "nbformat_minor": 2
}
